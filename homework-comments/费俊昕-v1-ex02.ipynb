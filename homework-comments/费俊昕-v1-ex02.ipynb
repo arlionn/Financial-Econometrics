{
 "cells": [
  {
   "cell_type": "markdown",
   "id": "23780ecb",
   "metadata": {},
   "source": [
    "# HW-02： Stata 基础命令运行\n",
    "\n",
    "**姓名：** 费俊昕  \n",
    "**学号：** 23327018  \n",
    "**作业介绍：** 本次作业主要用 Stata 进行数据处理和分析。内容包括：导入数据、统计描述、变量生成、分组和标签定义、绘制图表、分行业和分人种统计，以及基本回归分析。"
   ]
  },
  {
   "cell_type": "code",
   "execution_count": 3,
   "id": "9168970d",
   "metadata": {},
   "outputs": [
    {
     "name": "stdout",
     "output_type": "stream",
     "text": [
      "(NLSW, 1988 extract)\n"
     ]
    }
   ],
   "source": [
    "sysuse nlsw88.dta, clear"
   ]
  },
  {
   "cell_type": "markdown",
   "id": "810f8617",
   "metadata": {},
   "source": [
    "### 任务说明\n",
    "\n",
    "本节将统计变量 `age`、`grade`、`wage`、`hours`、`ttl_exp` 和 `tenure` 的平均值、标准差、中位数、最小值和最大值，并将结果输出为 Excel 文件 Table01.xlsx。\n",
    "\n",
    "变量定义如下：\n",
    "- `age`：妇女年龄\n",
    "- `grade`：受教育年限\n",
    "- `wage`：工资\n",
    "- `hours`：每周工作小时数\n",
    "- `ttl_exp`：总工作经验\n",
    "- `tenure`：当前单位工作年限"
   ]
  },
  {
   "cell_type": "code",
   "execution_count": 4,
   "id": "1fa27a83",
   "metadata": {},
   "outputs": [
    {
     "name": "stdout",
     "output_type": "stream",
     "text": [
      "\n",
      "                     Age in current year\n",
      "-------------------------------------------------------------\n",
      "      Percentiles      Smallest\n",
      " 1%           34             34\n",
      " 5%           35             34\n",
      "10%           35             34       Obs               2,246\n",
      "25%           36             34       Sum of wgt.       2,246\n",
      "\n",
      "50%           39                      Mean           39.15316\n",
      "                        Largest       Std. dev.      3.060002\n",
      "75%           42             45\n",
      "90%           44             45       Variance       9.363614\n",
      "95%           44             46       Skewness       .2003234\n",
      "99%           45             46       Kurtosis       1.932389\n",
      "\n",
      "                   Current grade completed\n",
      "-------------------------------------------------------------\n",
      "      Percentiles      Smallest\n",
      " 1%            7              0\n",
      " 5%            9              0\n",
      "10%           11              4       Obs               2,244\n",
      "25%           12              4       Sum of wgt.       2,244\n",
      "\n",
      "50%           12                      Mean           13.09893\n",
      "                        Largest       Std. dev.      2.521246\n",
      "75%           15             18\n",
      "90%           17             18       Variance       6.356682\n",
      "95%           18             18       Skewness       .0469717\n",
      "99%           18             18       Kurtosis       3.615168\n",
      "\n",
      "                         Hourly wage\n",
      "-------------------------------------------------------------\n",
      "      Percentiles      Smallest\n",
      " 1%     1.930993       1.004952\n",
      " 5%     2.801002       1.032247\n",
      "10%     3.220612       1.151368       Obs               2,246\n",
      "25%     4.259257       1.344605       Sum of wgt.       2,246\n",
      "\n",
      "50%      6.27227                      Mean           7.766949\n",
      "                        Largest       Std. dev.      5.755523\n",
      "75%     9.597424       40.19808\n",
      "90%     12.77777       40.19808       Variance       33.12604\n",
      "95%     16.52979       40.19808       Skewness       3.096199\n",
      "99%     38.70926       40.74659       Kurtosis       15.85446\n",
      "\n",
      "                     Usual hours worked\n",
      "-------------------------------------------------------------\n",
      "      Percentiles      Smallest\n",
      " 1%            5              1\n",
      " 5%           15              2\n",
      "10%           20              2       Obs               2,242\n",
      "25%           35              2       Sum of wgt.       2,242\n",
      "\n",
      "50%           40                      Mean           37.21811\n",
      "                        Largest       Std. dev.      10.50914\n",
      "75%           40             75\n",
      "90%           48             75       Variance       110.4419\n",
      "95%           50             80       Skewness      -.7336644\n",
      "99%           60             80       Kurtosis       4.925176\n",
      "\n",
      "                Total work experience (years)\n",
      "-------------------------------------------------------------\n",
      "      Percentiles      Smallest\n",
      " 1%     1.923077       .1153846\n",
      " 5%     4.442308       .4038461\n",
      "10%     6.012821       .6923077       Obs               2,246\n",
      "25%     9.211538       .7115384       Sum of wgt.       2,246\n",
      "\n",
      "50%       13.125                      Mean           12.53498\n",
      "                        Largest       Std. dev.      4.610208\n",
      "75%     15.98077       26.53846\n",
      "90%     18.15385       26.84615       Variance       21.25401\n",
      "95%     19.19231        27.1923       Skewness      -.2360455\n",
      "99%     21.41667       28.88461       Kurtosis       2.599452\n",
      "\n",
      "                     Job tenure (years)\n",
      "-------------------------------------------------------------\n",
      "      Percentiles      Smallest\n",
      " 1%            0              0\n",
      " 5%          .25              0\n",
      "10%     .5833333              0       Obs               2,231\n",
      "25%     1.583333              0       Sum of wgt.       2,231\n",
      "\n",
      "50%     3.833333                      Mean            5.97785\n",
      "                        Largest       Std. dev.      5.510331\n",
      "75%     9.333333           22.5\n",
      "90%        14.75       23.08333       Variance       30.36375\n",
      "95%     17.41667          24.75       Skewness       1.044433\n",
      "99%     20.83333       25.91667       Kurtosis       3.166485\n",
      "\n",
      "    Variable |        Obs        Mean    Std. dev.       Min        Max\n",
      "-------------+---------------------------------------------------------\n",
      "      idcode |      2,246    2612.654    1480.864          1       5159\n",
      "         age |      2,246    39.15316    3.060002         34         46\n",
      "        race |      2,246    1.282725    .4754413          1          3\n",
      "     married |      2,246    .6420303    .4795099          0          1\n",
      "never_marr~d |      2,246    .1041852    .3055687          0          1\n",
      "-------------+---------------------------------------------------------\n",
      "       grade |      2,244    13.09893    2.521246          0         18\n",
      "    collgrad |      2,246    .2368655    .4252538          0          1\n",
      "       south |      2,246    .4194123    .4935728          0          1\n",
      "        smsa |      2,246    .7039181    .4566292          0          1\n",
      "      c_city |      2,246    .2916296    .4546139          0          1\n",
      "-------------+---------------------------------------------------------\n",
      "    industry |      2,232    8.189516    3.010875          1         12\n",
      "  occupation |      2,237    4.642825    3.408897          1         13\n",
      "       union |      1,878    .2454739    .4304825          0          1\n",
      "        wage |      2,246    7.766949    5.755523   1.004952   40.74659\n",
      "       hours |      2,242    37.21811    10.50914          1         80\n",
      "-------------+---------------------------------------------------------\n",
      "     ttl_exp |      2,246    12.53498    4.610208   .1153846   28.88461\n",
      "      tenure |      2,231     5.97785    5.510331          0   25.91667\n",
      "\n",
      "\n",
      "Table01.xlsx\n",
      "dir : seeout\n"
     ]
    }
   ],
   "source": [
    "// 统计描述性统计量并输出为 Excel\n",
    "summarize age grade wage hours ttl_exp tenure, detail\n",
    "outreg2 using Table01.xlsx, replace sum(log) excel"
   ]
  },
  {
   "cell_type": "markdown",
   "id": "ef059817",
   "metadata": {},
   "source": [
    "上述代码统计了各变量的平均值、标准差、中位数、最小值和最大值，并将结果输出为 Table01.xlsx 文件。你可以在 Excel 中查看详细统计结果。"
   ]
  },
  {
   "cell_type": "markdown",
   "id": "8f5c8233",
   "metadata": {},
   "source": [
    "### 变量生成说明\n",
    "\n",
    "本节将生成如下新变量：\n",
    "- `age2`：年龄的平方\n",
    "- `ln_wage`：工资的自然对数\n",
    "- `wage_hour`：工资与小时数的比值\n",
    "- `dum`：虚拟变量，若工资高于平均工资则为 1，否则为 0"
   ]
  },
  {
   "cell_type": "code",
   "execution_count": 5,
   "id": "7be06239",
   "metadata": {},
   "outputs": [
    {
     "name": "stdout",
     "output_type": "stream",
     "text": [
      "(4 missing values generated)\n",
      "\n",
      "    Variable |        Obs        Mean    Std. dev.       Min        Max\n",
      "-------------+---------------------------------------------------------\n",
      "        wage |      2,246    7.766949    5.755523   1.004952   40.74659\n"
     ]
    }
   ],
   "source": [
    "// 生成新变量\n",
    "gen age2 = age^2\n",
    "gen ln_wage = ln(wage)\n",
    "gen wage_hour = wage/hours\n",
    "summarize wage\n",
    "local mean_wage = r(mean)\n",
    "gen dum = wage > `mean_wage'"
   ]
  },
  {
   "cell_type": "markdown",
   "id": "63c6c4f3",
   "metadata": {},
   "source": [
    "已成功生成新变量。`dum` 变量用于区分工资高于平均值的妇女（取值为 1）和不高于平均值的妇女（取值为 0）。"
   ]
  },
  {
   "cell_type": "markdown",
   "id": "7931d0e5",
   "metadata": {},
   "source": [
    "### 绘制 ttl_exp 的直方图和密度图\n",
    "\n",
    "本节将绘制 `ttl_exp` 变量的直方图和密度函数图，并分别保存为 His_ttl.png 和 Kendi_ttl.png。"
   ]
  },
  {
   "cell_type": "code",
   "execution_count": 6,
   "id": "9ef70039",
   "metadata": {},
   "outputs": [
    {
     "name": "stdout",
     "output_type": "stream",
     "text": [
      "(bin=15, start=.11538462, width=2)\n",
      "file His_ttl.png written in PNG format\n",
      "file Kendi_ttl.png written in PNG format\n"
     ]
    },
    {
     "data": {
      "image/png": "[encoded data removed]",
      "text/plain": [
       "<IPython.core.display.Image object>"
      ]
     },
     "metadata": {},
     "output_type": "display_data"
    }
   ],
   "source": [
    "// 绘制直方图\n",
    "histogram ttl_exp, width(2) frequency\n",
    "graph export His_ttl.png, replace\n",
    "\n",
    "// 绘制密度图\n",
    "kdensity ttl_exp\n",
    "graph export Kendi_ttl.png, replace"
   ]
  },
  {
   "cell_type": "markdown",
   "id": "618cd2b8",
   "metadata": {},
   "source": [
    "直方图和密度图展示了妇女总工作经验的分布情况。大部分妇女的工作经验集中在 0-20 年之间，分布呈右偏态。"
   ]
  },
  {
   "cell_type": "markdown",
   "id": "f9fa08a5",
   "metadata": {},
   "source": [
    "### 不同行业 ln(wage) 的密度函数图\n",
    "\n",
    "本节将使用 mkdensity 命令，绘制 `industry` 变量取值为 1,3,5,6,7,11 时，$\\ln(wage)$ 的密度函数图。"
   ]
  },
  {
   "cell_type": "markdown",
   "id": "d03f88b3",
   "metadata": {},
   "source": [
    "// 筛选指定行业并绘制密度图\n",
    "mkdensity ln_wage if inlist(industry,1,3,5,6,7,11), by(industry)\n",
    "graph export lnwage_industry.png, replace"
   ]
  },
  {
   "cell_type": "markdown",
   "id": "e485f1c2",
   "metadata": {},
   "source": [
    "不同的行业在 $\\ln(wage)$ 的分布上存在明显差异，部分行业工资分布更集中，部分行业分布更分散。"
   ]
  },
  {
   "cell_type": "markdown",
   "id": "6cc02a15",
   "metadata": {},
   "source": [
    "### 行业统计说明\n",
    "\n",
    "本节将统计每个行业的样本数、平均工资、平均工作时数、平均年龄，以及不同行业中各人种比例。"
   ]
  },
  {
   "cell_type": "markdown",
   "id": "14577e0a",
   "metadata": {},
   "source": [
    "// (1) 每个行业的观察值个数\n",
    "tabulate industry\n",
    "\n",
    "// (2) 各行业平均工资、工作时数、年龄\n",
    "table industry, c(mean wage mean hours mean age)\n",
    "\n",
    "// (3) 各行业人种比例\n",
    "table industry race, c(freq)"
   ]
  },
  {
   "cell_type": "markdown",
   "id": "8ee4380a",
   "metadata": {},
   "source": [
    "结果显示各行业样本量、平均工资、平均工作时数和平均年龄存在差异。不同人种在各行业的分布也不同，白种人比例较高。"
   ]
  },
  {
   "cell_type": "markdown",
   "id": "4e8ec7ee",
   "metadata": {},
   "source": [
    "### race 变量标签定义\n",
    "\n",
    "本节将为 `race` 变量添加标签，分别为“白种人”、“黑种人”和“其它”。"
   ]
  },
  {
   "cell_type": "code",
   "execution_count": 7,
   "id": "4d3209bf",
   "metadata": {},
   "outputs": [
    {
     "name": "stdout",
     "output_type": "stream",
     "text": [
      "\u001b[31mlabel racelbl already defined\n",
      "r(110);\u001b[0m\n"
     ]
    }
   ],
   "source": [
    "label define racelbl 1 \"白种人\" 2 \"黑种人\" 3 \"其它\"\n",
    "label value race racelbl"
   ]
  },
  {
   "cell_type": "markdown",
   "id": "209b7250",
   "metadata": {},
   "source": [
    "已成功为 race 变量添加标签，后续分析和绘图将显示中文标签，便于理解。"
   ]
  },
  {
   "cell_type": "markdown",
   "id": "fe3b46cd",
   "metadata": {},
   "source": [
    "### G_age 分组变量生成及标签定义\n",
    "\n",
    "本节将生成分组变量 `G_age`，并添加标签。"
   ]
  },
  {
   "cell_type": "code",
   "execution_count": 8,
   "id": "a13b9f52",
   "metadata": {},
   "outputs": [
    {
     "name": "stdout",
     "output_type": "stream",
     "text": [
      "(2,246 missing values generated)\n",
      "(795 real changes made)\n",
      "(1,043 real changes made)\n",
      "(408 real changes made)\n"
     ]
    }
   ],
   "source": [
    "gen G_age = .\n",
    "replace G_age = 1 if age <= 37\n",
    "replace G_age = 2 if age > 37 & age <= 42\n",
    "replace G_age = 3 if age > 42\n",
    "label define Gagelbl 1 \"37岁以下\" 2 \"38到42岁之间\" 3 \"43岁以上\"\n",
    "label value G_age Gagelbl"
   ]
  },
  {
   "cell_type": "markdown",
   "id": "2e34caf8",
   "metadata": {},
   "source": [
    "已成功生成 G_age 分组变量，并添加了对应标签。后续分析可直接使用分组标签。"
   ]
  },
  {
   "cell_type": "markdown",
   "id": "9dbd7b98",
   "metadata": {},
   "source": [
    "### 工资分布核密度图和柱状图\n",
    "\n",
    "本节将绘制白人和黑人妇女的工资核密度图，以及工资在不同行业的分布柱状图。"
   ]
  },
  {
   "cell_type": "code",
   "execution_count": 9,
   "id": "4d5a49a3",
   "metadata": {},
   "outputs": [
    {
     "name": "stdout",
     "output_type": "stream",
     "text": [
      "file wage_density_race.png written in PNG format\n",
      "file wage_bar_industry_race.png written in PNG format\n"
     ]
    },
    {
     "data": {
      "image/png": "[encoded data removed]",
      "text/plain": [
       "<IPython.core.display.Image object>"
      ]
     },
     "metadata": {},
     "output_type": "display_data"
    }
   ],
   "source": [
    "// (1) 白人和黑人妇女工资核密度图\n",
    "twoway (kdensity wage if race==1, lcolor(blue)) ///\n",
    "       (kdensity wage if race==2, lcolor(red)), ///\n",
    "       legend(label(1 \"白种人\") label(2 \"黑种人\")) ///\n",
    "       xlabel(, angle(vertical) labsize(small))\n",
    "graph export wage_density_race.png, replace\n",
    "\n",
    "// (2) 工资在不同行业的分布柱状图\n",
    "graph bar wage, over(industry, label(angle(vertical) labsize(small))) over(race)\n",
    "graph export wage_bar_industry_race.png, replace"
   ]
  },
  {
   "cell_type": "markdown",
   "id": "fc968637",
   "metadata": {},
   "source": [
    "核密度图显示白人和黑人妇女的工资分布存在差异，白人妇女工资分布整体偏右。柱状图展示了不同行业中不同人种妇女的工资分布特征。"
   ]
  },
  {
   "cell_type": "markdown",
   "id": "1fb4c96d",
   "metadata": {},
   "source": [
    "### 基本回归分析说明\n",
    "\n",
    "本节将估计各行业的平均工资及行业差异，并使用 `regress`、`areg`、`reghdfe` 命令估计如下模型：\n",
    "\n",
    "$$\n",
    "\\ln(wage) = a_i + a_j + \\beta_1 \\ln(hours) + \\beta_2 Black + \\beta_3 Black \\times \\ln(hours) + \\gamma Controls + u\n",
    "$$\n",
    "\n",
    "其中，$a_i$ 表示行业固定效应，$a_j$ 表示职业固定效应，$\\ln(wage)$ 和 $\\ln(hours)$ 分别是工资和工作时数的自然对数，$\\text{Controls}$ 包括 age、age^2、i.race、ttl_exp。"
   ]
  },
  {
   "cell_type": "code",
   "execution_count": null,
   "id": "6d5046f8",
   "metadata": {},
   "outputs": [],
   "source": [
    "// reghdfe 命令需要提前安装\n",
    "ssc install reghdfe, replace"
   ]
  },
  {
   "cell_type": "code",
   "execution_count": null,
   "id": "e245325f",
   "metadata": {},
   "outputs": [
    {
     "name": "stdout",
     "output_type": "stream",
     "text": [
      "/Users/feijunxin/Library/Application Support/Stata/ado/plus/r/reghdfe.ado\n",
      "*! version 6.12.3 08aug2023\n"
     ]
    }
   ],
   "source": [
    "which reghdfe"
   ]
  },
  {
   "cell_type": "code",
   "execution_count": null,
   "id": "6938eff1",
   "metadata": {},
   "outputs": [
    {
     "name": "stdout",
     "output_type": "stream",
     "text": [
      "checking ftools consistency and verifying not already installed...\n",
      "installing into /Users/feijunxin/Library/Application Support/Stata/ado/plus/...\n",
      "installation complete.\n",
      "checking reghdfe consistency and verifying not already installed...\n",
      "all files already exist and are up to date.\n"
     ]
    }
   ],
   "source": [
    "//reghdfe 依赖 ftools 包，建议一起安装：\n",
    "ssc install ftools, replace\n",
    "ssc install reghdfe, replace"
   ]
  },
  {
   "cell_type": "code",
   "execution_count": null,
   "id": "c9afa427",
   "metadata": {},
   "outputs": [
    {
     "name": "stdout",
     "output_type": "stream",
     "text": [
      "(dropped 1 singleton observations)\n",
      "(MWFE estimator converged in 9 iterations)\n",
      "\n",
      "HDFE Linear regression                            Number of obs   =      2,223\n",
      "Absorbing 2 HDFE groups                           F(   8,   2192) =      23.41\n",
      "                                                  Prob > F        =     0.0000\n",
      "                                                  R-squared       =     0.3548\n",
      "                                                  Adj R-squared   =     0.3460\n",
      "                                                  Within R-sq.    =     0.0787\n",
      "                                                  Root MSE        =     0.4638\n",
      "\n",
      "------------------------------------------------------------------------------\n",
      "     ln_wage | Coefficient  Std. err.      t    P>|t|     [95% conf. interval]\n",
      "-------------+----------------------------------------------------------------\n",
      "    ln_hours |   .0405948   .0258228     1.57   0.116     -.010045    .0912346\n",
      "             |\n",
      "        race |\n",
      "      Black  |  -.3905383   .2657219    -1.47   0.142    -.9116314    .1305547\n",
      "      Other  |   .9435753   .7516895     1.26   0.210     -.530523    2.417674\n",
      "             |\n",
      "     ttl_exp |   .0298228   .0023492    12.69   0.000     .0252159    .0344297\n",
      "         age |   .0820592   .0886182     0.93   0.355    -.0917253    .2558436\n",
      "        age2 |  -.0011371   .0011218    -1.01   0.311    -.0033371    .0010628\n",
      "             |\n",
      "        race#|\n",
      "  c.ln_hours |\n",
      "      Black  |   .0864035   .0734539     1.18   0.240     -.057643      .23045\n",
      "      Other  |    -.25728   .2113415    -1.22   0.224    -.6717307    .1571706\n",
      "             |\n",
      "       _cons |  -.0854837   1.740643    -0.05   0.961    -3.498966    3.327999\n",
      "------------------------------------------------------------------------------\n",
      "\n",
      "Absorbed degrees of freedom:\n",
      "-----------------------------------------------------+\n",
      " Absorbed FE | Categories  - Redundant  = Num. Coefs |\n",
      "-------------+---------------------------------------|\n",
      "    industry |        12           0          12     |\n",
      "  occupation |        12           1          11     |\n",
      "-----------------------------------------------------+\n"
     ]
    }
   ],
   "source": [
    "reghdfe ln_wage ln_hours i.race ttl_exp age age2 i.race#c.ln_hours, absorb(industry occupation)"
   ]
  },
  {
   "cell_type": "code",
   "execution_count": null,
   "id": "442d1081",
   "metadata": {},
   "outputs": [
    {
     "name": "stdout",
     "output_type": "stream",
     "text": [
      "\n",
      "      Source |       SS           df       MS      Number of obs   =     2,224\n",
      "-------------+----------------------------------   F(31, 2192)     =     38.89\n",
      "       Model |  259.348567        31  8.36608281   Prob > F        =    0.0000\n",
      "    Residual |  471.554764     2,192  .215125349   R-squared       =    0.3548\n",
      "-------------+----------------------------------   Adj R-squared   =    0.3457\n",
      "       Total |  730.903331     2,223  .328791422   Root MSE        =    .46382\n",
      "\n",
      "------------------------------------------------------------------------------\n",
      "     ln_wage | Coefficient  Std. err.      t    P>|t|     [95% conf. interval]\n",
      "-------------+----------------------------------------------------------------\n",
      "    industry |\n",
      "     Mining  |    .479764   .2674934     1.79   0.073    -.0448031    1.004331\n",
      "Construct~n  |    .132592   .1580142     0.84   0.401    -.1772813    .4424653\n",
      "Manufactu~g  |    .161818   .1352863     1.20   0.232    -.1034848    .4271208\n",
      "Transport~y  |   .5411866   .1412141     3.83   0.000     .2642591    .8181142\n",
      "Wholesale..  |  -.0881304   .1339844    -0.66   0.511    -.3508802    .1746193\n",
      "Finance/I..  |   .1715558   .1364325     1.26   0.209    -.0959948    .4391064\n",
      "Business/..  |   .0552383   .1413366     0.39   0.696    -.2219293    .3324059\n",
      "Personal ..  |  -.0244348   .1444994    -0.17   0.866    -.3078049    .2589353\n",
      "Entertain..  |   .0523978   .1739279     0.30   0.763     -.288683    .3934787\n",
      "Professio..  |   .0559116   .1337804     0.42   0.676    -.2064381    .3182612\n",
      "Public ad..  |   .2210565   .1370496     1.61   0.107    -.0477041    .4898172\n",
      "             |\n",
      "  occupation |\n",
      "Managers/~n  |  -.0336665   .0414998    -0.81   0.417    -.1150495    .0477165\n",
      "      Sales  |  -.3801625   .0332243   -11.44   0.000    -.4453169   -.3150082\n",
      "Clerical/~d  |  -.2593466   .0577948    -4.49   0.000    -.3726849   -.1460082\n",
      "  Craftsmen  |      -.387    .072463    -5.34   0.000    -.5291033   -.2448966\n",
      " Operatives  |  -.5925017   .0491285   -12.06   0.000    -.6888449   -.4961585\n",
      "  Transport  |  -.7890755   .1124257    -7.02   0.000    -1.009547   -.5686034\n",
      "   Laborers  |  -.5897485    .040336   -14.62   0.000    -.6688493   -.5106478\n",
      "    Farmers  |  -.2394484   .4833272    -0.50   0.620    -1.187276    .7083789\n",
      "Farm labo..  |  -.7879749   .2027269    -3.89   0.000    -1.185532    -.390418\n",
      "    Service  |  -.4249258   .1223451    -3.47   0.001    -.6648504   -.1850013\n",
      "Household..  |   -.465967   .3311149    -1.41   0.159    -1.115299    .1833649\n",
      "      Other  |   -.100566   .0439969    -2.29   0.022     -.186846   -.0142861\n",
      "             |\n",
      "    ln_hours |   .0405948   .0258228     1.57   0.116     -.010045    .0912346\n",
      "             |\n",
      "        race |\n",
      "      Black  |  -.3905383   .2657219    -1.47   0.142    -.9116314    .1305547\n",
      "      Other  |   .9435753   .7516895     1.26   0.210     -.530523    2.417674\n",
      "             |\n",
      "     ttl_exp |   .0298228   .0023492    12.69   0.000     .0252159    .0344297\n",
      "         age |   .0820592   .0886182     0.93   0.355    -.0917253    .2558436\n",
      "        age2 |  -.0011371   .0011218    -1.01   0.311    -.0033371    .0010628\n",
      "             |\n",
      "        race#|\n",
      "  c.ln_hours |\n",
      "      Black  |   .0864035   .0734539     1.18   0.240     -.057643      .23045\n",
      "      Other  |    -.25728   .2113415    -1.22   0.224    -.6717307    .1571706\n",
      "             |\n",
      "       _cons |   .1357348   1.747553     0.08   0.938    -3.291299    3.562769\n",
      "------------------------------------------------------------------------------\n",
      "\n",
      "Linear regression, absorbing indicators             Number of obs     =  2,228\n",
      "Absorbed variable: industry                         No. of categories =     12\n",
      "                                                    F(8, 2208)        =  45.82\n",
      "                                                    Prob > F          = 0.0000\n",
      "                                                    R-squared         = 0.2404\n",
      "                                                    Adj R-squared     = 0.2339\n",
      "                                                    Root MSE          = 0.5017\n",
      "\n",
      "------------------------------------------------------------------------------\n",
      "     ln_wage | Coefficient  Std. err.      t    P>|t|     [95% conf. interval]\n",
      "-------------+----------------------------------------------------------------\n",
      "    ln_hours |   .1104709   .0273331     4.04   0.000     .0568697     .164072\n",
      "             |\n",
      "        race |\n",
      "      Black  |  -.6322302   .2811989    -2.25   0.025    -1.183672   -.0807881\n",
      "      Other  |   .4768843   .8113352     0.59   0.557    -1.114176    2.067944\n",
      "             |\n",
      "     ttl_exp |   .0394519   .0024666    15.99   0.000     .0346149    .0442889\n",
      "         age |   .0725142   .0954625     0.76   0.448    -.1146914    .2597198\n",
      "        age2 |  -.0010701   .0012084    -0.89   0.376    -.0034398    .0012997\n",
      "             |\n",
      "        race#|\n",
      "  c.ln_hours |\n",
      "      Black  |   .1263907   .0777775     1.63   0.104     -.026134    .2789153\n",
      "      Other  |  -.1317766   .2280743    -0.58   0.563    -.5790393     .315486\n",
      "             |\n",
      "       _cons |  -.1589195   1.875349    -0.08   0.932    -3.836552    3.518713\n",
      "------------------------------------------------------------------------------\n",
      "F test of absorbed indicators: F(11, 2208) = 15.213           Prob > F = 0.000\n",
      "(dropped 1 singleton observations)\n",
      "(MWFE estimator converged in 9 iterations)\n",
      "\n",
      "HDFE Linear regression                            Number of obs   =      2,223\n",
      "Absorbing 2 HDFE groups                           F(   8,   2192) =      23.41\n",
      "                                                  Prob > F        =     0.0000\n",
      "                                                  R-squared       =     0.3548\n",
      "                                                  Adj R-squared   =     0.3460\n",
      "                                                  Within R-sq.    =     0.0787\n",
      "                                                  Root MSE        =     0.4638\n",
      "\n",
      "------------------------------------------------------------------------------\n",
      "     ln_wage | Coefficient  Std. err.      t    P>|t|     [95% conf. interval]\n",
      "-------------+----------------------------------------------------------------\n",
      "    ln_hours |   .0405948   .0258228     1.57   0.116     -.010045    .0912346\n",
      "             |\n",
      "        race |\n",
      "      Black  |  -.3905383   .2657219    -1.47   0.142    -.9116314    .1305547\n",
      "      Other  |   .9435753   .7516895     1.26   0.210     -.530523    2.417674\n",
      "             |\n",
      "     ttl_exp |   .0298228   .0023492    12.69   0.000     .0252159    .0344297\n",
      "         age |   .0820592   .0886182     0.93   0.355    -.0917253    .2558436\n",
      "        age2 |  -.0011371   .0011218    -1.01   0.311    -.0033371    .0010628\n",
      "             |\n",
      "        race#|\n",
      "  c.ln_hours |\n",
      "      Black  |   .0864035   .0734539     1.18   0.240     -.057643      .23045\n",
      "      Other  |    -.25728   .2113415    -1.22   0.224    -.6717307    .1571706\n",
      "             |\n",
      "       _cons |  -.0854837   1.740643    -0.05   0.961    -3.498966    3.327999\n",
      "------------------------------------------------------------------------------\n",
      "\n",
      "Absorbed degrees of freedom:\n",
      "-----------------------------------------------------+\n",
      " Absorbed FE | Categories  - Redundant  = Num. Coefs |\n",
      "-------------+---------------------------------------|\n",
      "    industry |        12           0          12     |\n",
      "  occupation |        12           1          11     |\n",
      "-----------------------------------------------------+\n"
     ]
    }
   ],
   "source": [
    "gen ln_hours = ln(hours)\n",
    "\n",
    "// 回归分析\n",
    "regress ln_wage i.industry i.occupation ln_hours i.race ttl_exp age age2 ///\n",
    "    i.race#c.ln_hours\n",
    "\n",
    "// 使用 areg 估计行业固定效应\n",
    "areg ln_wage ln_hours i.race ttl_exp age age2 i.race#c.ln_hours, absorb(industry)\n",
    "\n",
    "// 使用 reghdfe 估计行业和职业固定效应\n",
    "reghdfe ln_wage ln_hours i.race ttl_exp age age2 i.race#c.ln_hours, absorb(industry occupation)\n",
    "\n"
   ]
  },
  {
   "cell_type": "markdown",
   "id": "4134c089",
   "metadata": {},
   "source": [
    "上述模型估计了行业和职业对工资的影响。$\\hat{\\beta}_1$ 表示工作时数对工资的弹性，$\\hat{\\beta}_3$ 表示黑人妇女工作时数对工资的额外影响。结果显示行业和职业对工资存在显著差异，工作时数和种族交互项也有重要经济意义。"
   ]
  }
 ],
 "metadata": {
  "kernelspec": {
   "display_name": "Stata (nbstata)",
   "language": "stata",
   "name": "nbstata"
  },
  "language_info": {
   "file_extension": ".do",
   "mimetype": "text/x-stata",
   "name": "stata",
   "version": "17"
  }
 },
 "nbformat": 4,
 "nbformat_minor": 5
}
