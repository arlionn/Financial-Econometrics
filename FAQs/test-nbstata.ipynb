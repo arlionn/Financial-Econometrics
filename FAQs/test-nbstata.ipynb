{
 "cells": [
  {
   "cell_type": "markdown",
   "id": "1bf72746",
   "metadata": {},
   "source": [
    "# 测试 nbstata "
   ]
  },
  {
   "cell_type": "markdown",
   "id": "264f016f",
   "metadata": {},
   "source": [
    "## 无法输出图形\n",
    "\n"
   ]
  },
  {
   "cell_type": "code",
   "execution_count": 3,
   "id": "e10592ef",
   "metadata": {},
   "outputs": [
    {
     "name": "stdout",
     "output_type": "stream",
     "text": [
      "Unknown magic %%stata.\n",
      "\u001b[31m% is not a valid command name\n",
      "r(199);\u001b[0m\n"
     ]
    }
   ],
   "source": [
    "%%stata -graphs"
   ]
  },
  {
   "cell_type": "code",
   "execution_count": null,
   "id": "db87eede",
   "metadata": {},
   "outputs": [
    {
     "name": "stdout",
     "output_type": "stream",
     "text": [
      "Unknown magic %stata.\n",
      "\u001b[31m% is not a valid command name\n",
      "r(199);\u001b[0m\n"
     ]
    }
   ],
   "source": [
    "\n",
    "\n",
    "set more off\n",
    "set graphics on\n",
    "\n",
    "sysuse auto, clear\n",
    "scatter price weight"
   ]
  }
 ],
 "metadata": {
  "kernelspec": {
   "display_name": "Stata (nbstata)",
   "language": "stata",
   "name": "nbstata"
  },
  "language_info": {
   "file_extension": ".do",
   "mimetype": "text/x-stata",
   "name": "stata",
   "version": "17"
  }
 },
 "nbformat": 4,
 "nbformat_minor": 5
}
